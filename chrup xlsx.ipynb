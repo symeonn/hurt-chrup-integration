{
 "cells": [
  {
   "cell_type": "code",
   "execution_count": 3,
   "id": "3f2f39f7-2eea-43f0-b288-54162c35fb9a",
   "metadata": {},
   "outputs": [],
   "source": [
    "import os\n",
    "import pandas as pd\n",
    "from tabulate import tabulate"
   ]
  },
  {
   "cell_type": "code",
   "execution_count": 5,
   "id": "d4c6f8ed-e676-47b0-9eda-eb18c31c109a",
   "metadata": {
    "tags": []
   },
   "outputs": [
    {
     "name": "stdout",
     "output_type": "stream",
     "text": [
      "Index(['id', 'Obraz', 'Nazwa', 'Indeks', 'Kategoria', 'Cena podstawowa',\n",
      "       'Cena ostateczna', 'Ilość', 'Wyświetlany', 'Unnamed: 9'],\n",
      "      dtype='object')\n",
      "0      513348\n",
      "1      513344\n",
      "2      508054\n",
      "3      508040\n",
      "4      508030\n",
      "        ...  \n",
      "601    130014\n",
      "602    130011\n",
      "603    130008\n",
      "604    130005\n",
      "605    130002\n",
      "Name: Indeks, Length: 606, dtype: object\n"
     ]
    }
   ],
   "source": [
    "# Get shop product items\n",
    "\n",
    "shopProductsPath = os.path.join('c:' + os.sep, 'Users', 'Mario', 'Desktop', 'chrup', 'shop', 'products.csv')\n",
    "shopProducts = pd.read_csv(shopProductsPath, sep = ';', dtype={'Indeks': 'str'})\n",
    "# print(shopProducts)\n",
    "print(shopProducts.columns)\n",
    "indeks = shopProducts['Indeks']\n",
    "# print(type(indx))\n",
    "# print(indeks)\n",
    "shopIndeksNoNull = indeks.dropna()\n",
    "# print(shopIndeksNoNull)\n",
    "shopIndeksNoNullCleared = shopIndeksNoNull.str.extract('(\\d+)', expand=False)\n",
    "print(shopIndeksNoNullCleared)\n",
    "# print(type(shopIndeksNoNull))\n",
    "# print(shopIndeksNoNull.astype(str))\n",
    "# print(indxNoNull.map('{:,.2f}'.format))\n",
    "# print(tabulate(products,headers='firstrow'))"
   ]
  },
  {
   "cell_type": "code",
   "execution_count": 6,
   "id": "4d333c83-39ae-425a-bc0a-e4b214c96338",
   "metadata": {},
   "outputs": [
    {
     "name": "stdout",
     "output_type": "stream",
     "text": [
      "7335\n",
      "5281\n",
      "81\n"
     ]
    }
   ],
   "source": [
    "pathDry = os.path.join('c:' + os.sep, 'Users', 'Mario', 'Desktop', 'chrup', 'hurt', 'dry', 'pl_food.xlsx')\n",
    "dry = pd.read_excel(pathDry, skiprows=[0,1,2,3])\n",
    "\n",
    "# print(dry.sheet_names)\n",
    "# print(dry)\n",
    "print(len(dry.index))\n",
    "# print(dry.columns)\n",
    "# print(dry['Artikelnr.'])\n",
    "# print(dry.iloc[[5391]])  # green tea indeks:513344\n",
    "\n",
    "\n",
    "dryIndeksNumbersOnly = dry[dry['Artikelnr.'].astype(str).str.isdigit()]\n",
    "# print(dryIndeksNumbersOnly)\n",
    "print(len(dryIndeksNumbersOnly.index))\n",
    "# print(len(dry.index))\n",
    "# df.drop(dry[dry['Artikelnr.'] >= 24000].index, inplace = True)\n",
    "\n",
    "# print(dryIndeksNumbersOnly['Artikelnr.'].isin(shopIndeksNoNull))\n",
    "\n",
    "# dryIndeksNumbersOnly[dryIndeksNumbersOnly.eq('414705').any(1)]\n",
    "\n",
    "# greenTeaIndeks = shopIndeksNoNullCleared[shopIndeksNoNullCleared.eq('513344')]\n",
    "# print(greenTeaIndeks)\n",
    "# print('513344'.eq(greenTeaIndeks))\n",
    "# greenTeaIndeksStr = '513344'\n",
    "# dryIndeksNumbersOnly[dryIndeksNumbersOnly.eq(greenTeaIndeks).any(1)]\n",
    "# dryIndeksNumbersOnly[dryIndeksNumbersOnly.astype(str).eq(shopIndeksNoNullCleared).any(1)]\n",
    "# dryIndeksNumbersOnly.astype(str).eq(shopIndeksNoNullCleared).any(1)\n",
    "dryFromShop = dryIndeksNumbersOnly[dryIndeksNumbersOnly['Artikelnr.'].isin(shopIndeksNoNullCleared)]\n",
    "# print(dryFromShop)\n",
    "print(len(dryFromShop.index))\n",
    "# dryIndeksNumbersOnly.isin(['513348']).any(1)\n",
    "\n",
    "# indeksCol = dry.iloc[:,0]\n",
    "# print(indeksCol)\n",
    "# print(type(indeksCol))\n",
    "# indeksColNumbersOnly = indeksCol[indeksCol.astype(str).str.isdigit()]\n",
    "# print(indeksColNumbersOnly)\n",
    "# print(len(indeksColNumbersOnly.index))\n",
    "\n"
   ]
  },
  {
   "cell_type": "code",
   "execution_count": 8,
   "id": "95a8b596-6567-4bff-8f50-8d948f0391e3",
   "metadata": {},
   "outputs": [
    {
     "name": "stdout",
     "output_type": "stream",
     "text": [
      "3320\n",
      "2387\n",
      "345\n"
     ]
    }
   ],
   "source": [
    "pathFresh = os.path.join('c:' + os.sep, 'Users', 'Mario', 'Desktop', 'chrup', 'hurt', 'fresh', 'pl_frisch.xlsx')\n",
    "fresh = pd.read_excel(pathFresh, skiprows=[0,1,2,3])\n",
    "\n",
    "print(len(fresh.index))\n",
    "\n",
    "freshIndeksNumbersOnly = fresh[fresh['Artikelnr.'].astype(str).str.isdigit()]\n",
    "print(len(freshIndeksNumbersOnly.index))\n",
    "\n",
    "freshFromShop = freshIndeksNumbersOnly[freshIndeksNumbersOnly['Artikelnr.'].isin(shopIndeksNoNullCleared)]\n",
    "# print(freshFromShop)\n",
    "print(len(freshFromShop.index))\n"
   ]
  },
  {
   "cell_type": "code",
   "execution_count": 10,
   "id": "e8fc7db2-b998-489e-b621-187147b65741",
   "metadata": {},
   "outputs": [
    {
     "name": "stdout",
     "output_type": "stream",
     "text": [
      "576\n",
      "295\n",
      "0\n"
     ]
    }
   ],
   "source": [
    "pathVege = os.path.join('c:' + os.sep, 'Users', 'Mario', 'Desktop', 'chrup', 'hurt', 'vege', 'plf.xlsx')\n",
    "# fruit = pd.read_csv(pathFruit)\n",
    "\n",
    "vege = pd.read_excel(pathVege, skiprows=[0,1,2,3,4,5])\n",
    "# print(fruit)\n",
    "# print(fruit.columns)\n",
    "print(len(vege.index))\n",
    "\n",
    "vegeIndeksNumbersOnly = vege[vege['Art.Nr.'].astype(str).str.isdigit()]\n",
    "print(len(vegeIndeksNumbersOnly.index))\n",
    "\n",
    "vegeFromShop = vegeIndeksNumbersOnly[vegeIndeksNumbersOnly['Art.Nr.'].isin(shopIndeksNoNullCleared)]\n",
    "# print(vegeFromShop)\n",
    "print(len(vegeFromShop.index))"
   ]
  }
 ],
 "metadata": {
  "kernelspec": {
   "display_name": "Python 3 (ipykernel)",
   "language": "python",
   "name": "python3"
  },
  "language_info": {
   "codemirror_mode": {
    "name": "ipython",
    "version": 3
   },
   "file_extension": ".py",
   "mimetype": "text/x-python",
   "name": "python",
   "nbconvert_exporter": "python",
   "pygments_lexer": "ipython3",
   "version": "3.10.1"
  }
 },
 "nbformat": 4,
 "nbformat_minor": 5
}
