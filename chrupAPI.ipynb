{
 "cells": [
  {
   "cell_type": "code",
   "execution_count": null,
   "id": "14e8e928-d49e-4cfa-aa90-88428988ef58",
   "metadata": {},
   "outputs": [],
   "source": [
    "# imports\n",
    "# variables\n",
    "\n",
    "\n",
    "from configparser import ConfigParser\n",
    "\n",
    "\n",
    "parser = ConfigParser()\n",
    "_ = parser.read('notebook.cfg')\n",
    "\n",
    "HURT_HOSTNAME = parser['hurt']['HURT_HOSTNAME']\n",
    "HURT_USERNAME = parser['hurt']['HURT_USERNAME']\n",
    "HURT_PASSWORD = parser['hurt']['HURT_PASSWORD']\n",
    "\n",
    "SHOP_HOSTNAME = parser['shop']['SHOP_HOSTNAME']\n",
    "SHOP_USERNAME = parser['shop']['SHOP_USERNAME']\n",
    "SHOP_PASSWORD = parser['shop']['SHOP_PASSWORD']\n",
    "SHOP_UPLOAD_PATH = parser['shop']['SHOP_UPLOAD_PATH']\n",
    "\n"
   ]
  },
  {
   "cell_type": "code",
   "execution_count": null,
   "id": "1b14826f-7e19-472b-b7b2-1c5cae379dbc",
   "metadata": {},
   "outputs": [],
   "source": [
    "# get products from hurt (3 categories)\n",
    "# \n",
    "# \n",
    "\n"
   ]
  },
  {
   "cell_type": "code",
   "execution_count": null,
   "id": "61fde00f-ce27-478a-82aa-bea65280d41c",
   "metadata": {},
   "outputs": [],
   "source": [
    "# get products list from shop \n",
    "# iterate\n",
    "# filter out \"imp\" category\n",
    "# filter out dirty indeks\n",
    "# find in hurt by indeks\n",
    "# do the calculations - price, visibility, wielosztuki\n",
    "# update shop product\n",
    "# PUT to the shop updated product\n",
    "\n",
    "\n"
   ]
  }
 ],
 "metadata": {
  "kernelspec": {
   "display_name": "Python 3 (ipykernel)",
   "language": "python",
   "name": "python3"
  },
  "language_info": {
   "codemirror_mode": {
    "name": "ipython",
    "version": 3
   },
   "file_extension": ".py",
   "mimetype": "text/x-python",
   "name": "python",
   "nbconvert_exporter": "python",
   "pygments_lexer": "ipython3",
   "version": "3.10.1"
  }
 },
 "nbformat": 4,
 "nbformat_minor": 5
}
