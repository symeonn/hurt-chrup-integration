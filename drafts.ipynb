{
 "cells": [
  {
   "cell_type": "code",
   "execution_count": null,
   "id": "87bd28f3-646e-4d2a-8ed0-817bf3dc1c02",
   "metadata": {},
   "outputs": [],
   "source": [
    "# dryBnn = getDfFromCSV(os.path.join('c:' + os.sep, 'Users', 'Mario', 'Desktop', 'chrup', 'hurt', 'dry', 'pl_food.bnn'))\n",
    "\n",
    "filename = \"PL_FOOD.bnn\"\n",
    "dryBnn = getDataFromFile(filename)\n",
    "\n",
    "# print(type(dryBnn))\n",
    "# print(vegeBnn.columns)\n",
    "print(len(dryBnn.index))\n",
    "\n",
    "# dryBnnIndeksNumbersOnly = dryBnn[dryBnn['Indeks'].astype(str).str.isdigit()]\n",
    "\n",
    "dryBnnIndeksNumbersOnly = filterIndeksDigitOnly(dryBnn)\n",
    "print(len(dryBnnIndeksNumbersOnly.index))\n",
    "\n",
    "# dryFromShop = dryBnnIndeksNumbersOnly[dryBnnIndeksNumbersOnly['Indeks'].isin(shopIndeksNoNullCleared)]\n",
    "\n",
    "dryFromShop = filterIndeksFromShop(dryBnnIndeksNumbersOnly)\n",
    "# print(dryFromShop)\n",
    "print(len(dryFromShop.index))"
   ]
  },
  {
   "cell_type": "code",
   "execution_count": 1,
   "id": "2696b370-b2f7-4077-995a-1c3d03384792",
   "metadata": {},
   "outputs": [
    {
     "ename": "NameError",
     "evalue": "name 'getDataFromFile' is not defined",
     "output_type": "error",
     "traceback": [
      "\u001b[1;31m---------------------------------------------------------------------------\u001b[0m",
      "\u001b[1;31mNameError\u001b[0m                                 Traceback (most recent call last)",
      "\u001b[1;32m~\\AppData\\Local\\Temp/ipykernel_3680/1214025343.py\u001b[0m in \u001b[0;36m<module>\u001b[1;34m\u001b[0m\n\u001b[0;32m      2\u001b[0m \u001b[1;33m\u001b[0m\u001b[0m\n\u001b[0;32m      3\u001b[0m \u001b[0mfilename\u001b[0m \u001b[1;33m=\u001b[0m \u001b[1;34m\"PL_FRISCH.bnn\"\u001b[0m\u001b[1;33m\u001b[0m\u001b[1;33m\u001b[0m\u001b[0m\n\u001b[1;32m----> 4\u001b[1;33m \u001b[0mfreshBnn\u001b[0m \u001b[1;33m=\u001b[0m \u001b[0mgetDataFromFile\u001b[0m\u001b[1;33m(\u001b[0m\u001b[0mfilename\u001b[0m\u001b[1;33m)\u001b[0m\u001b[1;33m\u001b[0m\u001b[1;33m\u001b[0m\u001b[0m\n\u001b[0m\u001b[0;32m      5\u001b[0m \u001b[1;33m\u001b[0m\u001b[0m\n\u001b[0;32m      6\u001b[0m \u001b[1;31m# print(type(vegeBnn))\u001b[0m\u001b[1;33m\u001b[0m\u001b[1;33m\u001b[0m\u001b[0m\n",
      "\u001b[1;31mNameError\u001b[0m: name 'getDataFromFile' is not defined"
     ]
    }
   ],
   "source": [
    "# freshBnn = getDfFromCSV(os.path.join('c:' + os.sep, 'Users', 'Mario', 'Desktop', 'chrup', 'hurt', 'fresh', 'pl_frisch.bnn'))\n",
    "\n",
    "filename = \"PL_FRISCH.bnn\"\n",
    "freshBnn = getDataFromFile(filename)\n",
    "\n",
    "# print(type(vegeBnn))\n",
    "# print(vegeBnn.columns)\n",
    "print(len(freshBnn.index))\n",
    "\n",
    "# dryBnnIndeksNumbersOnly = dryBnn[dryBnn['Indeks'].astype(str).str.isdigit()]\n",
    "\n",
    "freshBnnIndeksNumbersOnly = filterIndeksDigitOnly(freshBnn)\n",
    "print(len(freshBnnIndeksNumbersOnly.index))\n",
    "print(freshBnnIndeksNumbersOnly)\n",
    "print(dryBnnIndeksNumbersOnly[dryBnnIndeksNumbersOnly['Indeks'].isin(['130125'])])\n",
    "\n",
    "freshBnnShop = filterIndeksFromShop(freshBnnIndeksNumbersOnly)\n",
    "\n",
    "# print(dryFromShop)\n",
    "# print(len(freshBnnShop.index))\n",
    "# freshBnnShop[freshBnnShop['Indeks'].isin(['130125'])]"
   ]
  },
  {
   "cell_type": "code",
   "execution_count": null,
   "id": "4b0d0b2d-650e-4e0d-8e40-a56199564610",
   "metadata": {},
   "outputs": [],
   "source": [
    "# vegeBnn = getDfFromCSV(os.path.join('c:' + os.sep, 'Users', 'Mario', 'Desktop', 'chrup', 'hurt', 'vege', 'plf.bnn'))\n",
    "\n",
    "filename = \"PLF.bnn\"\n",
    "vegeBnn = getDataFromFile(filename)\n",
    "# print(type(vegeBnn))\n",
    "# print(vegeBnn.columns)\n",
    "print(len(vegeBnn.index))\n",
    "\n",
    "# dryBnnIndeksNumbersOnly = dryBnn[dryBnn['Indeks'].astype(str).str.isdigit()]\n",
    "\n",
    "vegeBnnIndeksNumbersOnly = filterIndeksDigitOnly(vegeBnn)\n",
    "print(len(vegeBnnIndeksNumbersOnly.index))\n",
    "\n",
    "# dryFromShop = dryBnnIndeksNumbersOnly[dryBnnIndeksNumbersOnly['Indeks'].isin(shopIndeksNoNullCleared)]\n",
    "\n",
    "vegeBnnShop = filterIndeksFromShop(vegeBnnIndeksNumbersOnly, shopIndeksNoNullCleared)\n",
    "# print(dryFromShop)\n",
    "print(len(vegeBnnShop.index))"
   ]
  },
  {
   "cell_type": "code",
   "execution_count": null,
   "id": "b37d08e6-f652-4104-8299-c814f5472af7",
   "metadata": {},
   "outputs": [],
   "source": [
    "# print(allProducts[['Indeks','Show']])\n",
    "# 504212 show 0\n",
    "# 513348 not found -> wyświetlany 0\n",
    "# 130002 show 1\n",
    "# print(allProducts['Indeks'].eq('504212').any())\n",
    "# print(allProducts[allProducts['Indeks'].eq('504212')])\n",
    "# print(allProducts[allProducts['Indeks'].eq('513348')])\n",
    "# print(allProducts[allProducts['Indeks'].eq('130002')])\n",
    "# print(shopProductsWithClearedIndex)\n",
    "dd = shopProductsWithClearedIndex.merge(allProducts[['Indeks','Show']], on=['Indeks'], how='left' )\n",
    "print(dd)\n",
    "# print(dd[dd['Indeks'].eq('513348')]['Show'])\n",
    "# print(type(dd[dd['Indeks'].eq('513348')]['Show']))\n",
    "# import numpy as np\n",
    "# dd['Show'].replace(np.nan, 0)\n",
    "dd['Show'] = dd['Show'].fillna(0)\n",
    "# print(dd['Show'][~dd['Show'].eq(1.0)])\n",
    "# print(allProducts['Indeks'].eq('130002').any(1))\n",
    "\n",
    "# allProducts['Indeks'].isin(shopProductsWithClearedIndex['Indeks'])\n",
    "# def processRow(row):\n",
    "    # row['Show'] = 33\n",
    "    # print(f\"Srow: {row['Indeks']}, found in Hrow: {allProducts['Indeks'].eq(row['Indeks']).any()}\")\n",
    "    # if (allProducts['Indeks'].eq(row['Indeks']).any()): \n",
    "        # print(allProducts[allProducts['Indeks'].eq(row['Indeks'])]['Change'].isin(['N','A','W']).apply(int))\n",
    "        # return allProducts[allProducts['Indeks'].eq(row['Indeks'])]['Change'].isin(['N','A','W']).apply(int)\n",
    "        # return 1\n",
    "    # else: \n",
    "    #     # print('0')\n",
    "        # return 0\n",
    "    \n",
    "# ddd= shopProductsWithClearedIndex.apply(lambda shopRow : processRow(shopRow) , axis=1)\n",
    "dd['Show'] = dd['Show'].astype(int)\n",
    "print(dd)\n",
    "print('PO')\n",
    "# print(shopProductsWithClearedIndex[shopProductsWithClearedIndex['Indeks'].eq('513348')])\n",
    "# print('PO')\n",
    "# print(shopProductsWithClearedIndex[shopProductsWithClearedIndex['Indeks'].eq('504212')])\n",
    "# print('PO')\n",
    "# print(shopProductsWithClearedIndex[shopProductsWithClearedIndex['Indeks'].eq('130002')])\n",
    "\n",
    "# print(shopProductsWithClearedIndex)\n",
    "# print(allProducts)\n",
    "# print(allProducts['Change'])\n",
    "# allProducts['Change'].isin(['N','A','W']).apply(int)\n"
   ]
  },
  {
   "cell_type": "code",
   "execution_count": null,
   "id": "59fa1d2f-5642-4cd7-bf75-efacdd29466b",
   "metadata": {},
   "outputs": [],
   "source": [
    "import googletrans\n",
    "from googletrans import Translator\n",
    "\n",
    "def translateDEtoPL(word):\n",
    "    from_lang = 'de' \n",
    "    to_lang = 'pl'\n",
    "    translator = Translator(service_urls=['translate.google.com'])\n",
    "    # print(googletrans.LANGUAGES)\n",
    "    # translator.translate('안녕하세요.')\n",
    "    # get_sentence = \"Speak 'hello' to initiate the Translation !\"\n",
    "    translation = translator.translate(word, src=from_lang, dest=to_lang)\n",
    "    print(f\"{translation.origin}  -->  {translation.text}\")\n",
    "    return translation.text\n",
    "\n",
    "\n",
    "print(translateDEtoPL(\"Bitterorangen\"))"
   ]
  },
  {
   "cell_type": "code",
   "execution_count": 1,
   "id": "c94c6056-1028-41a3-b7ba-82ba98250b71",
   "metadata": {},
   "outputs": [
    {
     "name": "stdout",
     "output_type": "stream",
     "text": [
      "\"order.terra-natur.com\"\n"
     ]
    }
   ],
   "source": [
    "from configparser import ConfigParser\n",
    "parser = ConfigParser()\n",
    "_ = parser.read('notebook.cfg')\n",
    "# print(_)\n",
    "# key = parser.get('my_api', 'auth_key')\n",
    "key = parser['hurt']['HURT_HOSTNAME']\n",
    "print(key)"
   ]
  },
  {
   "cell_type": "code",
   "execution_count": null,
   "id": "1d7321f3-cd5a-4bbb-bd63-e85bd8489532",
   "metadata": {},
   "outputs": [],
   "source": [
    "import pandas as pd\n",
    "import xml.etree.ElementTree as ET\n",
    "import os\n",
    "\n",
    "url = \"https://@chrupnazdrowie.pl/api/products\"\n",
    "\n",
    "tmpFilename = \"productList.xml\"     \n",
    "def getProductList():\n",
    "    t = \"curl \" + url + \" -o \" + tmpFilename\n",
    "    os.system(t)\n",
    "    \n",
    "    return ET.parse(tmpFilename).getroot()[0]\n",
    "\n",
    "# getProductList()\n",
    "# print(root)\n",
    "\n",
    "for product in getProductList():\n",
    "    # print(elem)\n",
    "    productId = product.attrib['id']\n",
    "    productUrl = product.get(\"{http://www.w3.org/1999/xlink}href\")\n",
    "    print(f\"Id: {productId}, URL: {productUrl}\")\n",
    "    \n",
    "    # processProduct(productUrl)"
   ]
  },
  {
   "cell_type": "code",
   "execution_count": 121,
   "id": "fdd5993f-7f65-481b-a3c2-6e13352b88d5",
   "metadata": {},
   "outputs": [
    {
     "name": "stdout",
     "output_type": "stream",
     "text": [
      "https://chrupnazdrowie.pl/api/products/1137\n",
      "https://4X3RRHFYBBTVEUZ5MEY8QXEWFBB5D9KL@chrupnazdrowie.pl/api/products/1137\n",
      "https://4X3RRHFYBBTVEUZ5MEY8QXEWFBB5D9KL@chrupnazdrowie.pl/api/products/1137\n"
     ]
    }
   ],
   "source": [
    "from configparser import ConfigParser\n",
    "\n",
    "\n",
    "parser = ConfigParser()\n",
    "_ = parser.read('notebook.cfg')\n",
    "SHOP_API_TOKEN = parser['shop']['SHOP_API_TOKEN']\n",
    "\n",
    "def getUrlWithToken(url):\n",
    "    # print(url[:8] + SHOP_API_TOKEN+\"@\" + url[8:])\n",
    "    return url[:8] + SHOP_API_TOKEN+\"@\" + url[8:]\n",
    "\n",
    "\n",
    "def getProductDetails(productUrl):\n",
    "    \n",
    "    \n",
    "def processProduct(productUrl):\n",
    "    print(productUrl)\n",
    "    print(getUrlWithToken(productUrl))\n",
    "    \n",
    "    getProductDetails(getUrlWithToken(productUrl))\n",
    "    \n",
    "    \n",
    "    \n",
    "    \n",
    "testProductUrl = \"https://chrupnazdrowie.pl/api/products/1137\"\n",
    "processProduct(testProductUrl)"
   ]
  },
  {
   "cell_type": "code",
   "execution_count": 101,
   "id": "6a869664-d4a1-4346-ac01-dcb39fc56dfe",
   "metadata": {},
   "outputs": [
    {
     "ename": "InvalidURL",
     "evalue": "nonnumeric port: '//4X3RRHFYBBTVEUZ5MEY8QXEWFBB5D9KL@chrupnazdrowie.pl/api/products'",
     "output_type": "error",
     "traceback": [
      "\u001b[1;31m---------------------------------------------------------------------------\u001b[0m",
      "\u001b[1;31mValueError\u001b[0m                                Traceback (most recent call last)",
      "\u001b[1;32m~\\AppData\\Local\\Programs\\Python\\Python310\\lib\\http\\client.py\u001b[0m in \u001b[0;36m_get_hostport\u001b[1;34m(self, host, port)\u001b[0m\n\u001b[0;32m    888\u001b[0m                 \u001b[1;32mtry\u001b[0m\u001b[1;33m:\u001b[0m\u001b[1;33m\u001b[0m\u001b[1;33m\u001b[0m\u001b[0m\n\u001b[1;32m--> 889\u001b[1;33m                     \u001b[0mport\u001b[0m \u001b[1;33m=\u001b[0m \u001b[0mint\u001b[0m\u001b[1;33m(\u001b[0m\u001b[0mhost\u001b[0m\u001b[1;33m[\u001b[0m\u001b[0mi\u001b[0m\u001b[1;33m+\u001b[0m\u001b[1;36m1\u001b[0m\u001b[1;33m:\u001b[0m\u001b[1;33m]\u001b[0m\u001b[1;33m)\u001b[0m\u001b[1;33m\u001b[0m\u001b[1;33m\u001b[0m\u001b[0m\n\u001b[0m\u001b[0;32m    890\u001b[0m                 \u001b[1;32mexcept\u001b[0m \u001b[0mValueError\u001b[0m\u001b[1;33m:\u001b[0m\u001b[1;33m\u001b[0m\u001b[1;33m\u001b[0m\u001b[0m\n",
      "\u001b[1;31mValueError\u001b[0m: invalid literal for int() with base 10: '//4X3RRHFYBBTVEUZ5MEY8QXEWFBB5D9KL@chrupnazdrowie.pl/api/products'",
      "\nDuring handling of the above exception, another exception occurred:\n",
      "\u001b[1;31mInvalidURL\u001b[0m                                Traceback (most recent call last)",
      "\u001b[1;32m~\\AppData\\Local\\Temp/ipykernel_16784/394850045.py\u001b[0m in \u001b[0;36m<module>\u001b[1;34m\u001b[0m\n\u001b[0;32m      1\u001b[0m \u001b[1;32mimport\u001b[0m \u001b[0mhttp\u001b[0m\u001b[1;33m.\u001b[0m\u001b[0mclient\u001b[0m\u001b[1;33m\u001b[0m\u001b[1;33m\u001b[0m\u001b[0m\n\u001b[1;32m----> 2\u001b[1;33m \u001b[0mconn\u001b[0m \u001b[1;33m=\u001b[0m \u001b[0mhttp\u001b[0m\u001b[1;33m.\u001b[0m\u001b[0mclient\u001b[0m\u001b[1;33m.\u001b[0m\u001b[0mHTTPSConnection\u001b[0m\u001b[1;33m(\u001b[0m\u001b[1;34m\"https://4X3RRHFYBBTVEUZ5MEY8QXEWFBB5D9KL@chrupnazdrowie.pl/api/products\"\u001b[0m\u001b[1;33m)\u001b[0m\u001b[1;33m\u001b[0m\u001b[1;33m\u001b[0m\u001b[0m\n\u001b[0m\u001b[0;32m      3\u001b[0m \u001b[0mconn\u001b[0m\u001b[1;33m.\u001b[0m\u001b[0mrequest\u001b[0m\u001b[1;33m(\u001b[0m\u001b[1;34m\"GET\"\u001b[0m\u001b[1;33m,\u001b[0m \u001b[1;34m\"/\"\u001b[0m\u001b[1;33m)\u001b[0m\u001b[1;33m\u001b[0m\u001b[1;33m\u001b[0m\u001b[0m\n\u001b[0;32m      4\u001b[0m \u001b[0mr1\u001b[0m \u001b[1;33m=\u001b[0m \u001b[0mconn\u001b[0m\u001b[1;33m.\u001b[0m\u001b[0mgetresponse\u001b[0m\u001b[1;33m(\u001b[0m\u001b[1;33m)\u001b[0m\u001b[1;33m\u001b[0m\u001b[1;33m\u001b[0m\u001b[0m\n\u001b[0;32m      5\u001b[0m \u001b[0mprint\u001b[0m\u001b[1;33m(\u001b[0m\u001b[0mr1\u001b[0m\u001b[1;33m.\u001b[0m\u001b[0mstatus\u001b[0m\u001b[1;33m,\u001b[0m \u001b[0mr1\u001b[0m\u001b[1;33m.\u001b[0m\u001b[0mreason\u001b[0m\u001b[1;33m)\u001b[0m\u001b[1;33m\u001b[0m\u001b[1;33m\u001b[0m\u001b[0m\n",
      "\u001b[1;32m~\\AppData\\Local\\Programs\\Python\\Python310\\lib\\http\\client.py\u001b[0m in \u001b[0;36m__init__\u001b[1;34m(self, host, port, key_file, cert_file, timeout, source_address, context, check_hostname, blocksize)\u001b[0m\n\u001b[0;32m   1407\u001b[0m                      \u001b[0msource_address\u001b[0m\u001b[1;33m=\u001b[0m\u001b[1;32mNone\u001b[0m\u001b[1;33m,\u001b[0m \u001b[1;33m*\u001b[0m\u001b[1;33m,\u001b[0m \u001b[0mcontext\u001b[0m\u001b[1;33m=\u001b[0m\u001b[1;32mNone\u001b[0m\u001b[1;33m,\u001b[0m\u001b[1;33m\u001b[0m\u001b[1;33m\u001b[0m\u001b[0m\n\u001b[0;32m   1408\u001b[0m                      check_hostname=None, blocksize=8192):\n\u001b[1;32m-> 1409\u001b[1;33m             super(HTTPSConnection, self).__init__(host, port, timeout,\n\u001b[0m\u001b[0;32m   1410\u001b[0m                                                   \u001b[0msource_address\u001b[0m\u001b[1;33m,\u001b[0m\u001b[1;33m\u001b[0m\u001b[1;33m\u001b[0m\u001b[0m\n\u001b[0;32m   1411\u001b[0m                                                   blocksize=blocksize)\n",
      "\u001b[1;32m~\\AppData\\Local\\Programs\\Python\\Python310\\lib\\http\\client.py\u001b[0m in \u001b[0;36m__init__\u001b[1;34m(self, host, port, timeout, source_address, blocksize)\u001b[0m\n\u001b[0;32m    849\u001b[0m         \u001b[0mself\u001b[0m\u001b[1;33m.\u001b[0m\u001b[0m_tunnel_headers\u001b[0m \u001b[1;33m=\u001b[0m \u001b[1;33m{\u001b[0m\u001b[1;33m}\u001b[0m\u001b[1;33m\u001b[0m\u001b[1;33m\u001b[0m\u001b[0m\n\u001b[0;32m    850\u001b[0m \u001b[1;33m\u001b[0m\u001b[0m\n\u001b[1;32m--> 851\u001b[1;33m         \u001b[1;33m(\u001b[0m\u001b[0mself\u001b[0m\u001b[1;33m.\u001b[0m\u001b[0mhost\u001b[0m\u001b[1;33m,\u001b[0m \u001b[0mself\u001b[0m\u001b[1;33m.\u001b[0m\u001b[0mport\u001b[0m\u001b[1;33m)\u001b[0m \u001b[1;33m=\u001b[0m \u001b[0mself\u001b[0m\u001b[1;33m.\u001b[0m\u001b[0m_get_hostport\u001b[0m\u001b[1;33m(\u001b[0m\u001b[0mhost\u001b[0m\u001b[1;33m,\u001b[0m \u001b[0mport\u001b[0m\u001b[1;33m)\u001b[0m\u001b[1;33m\u001b[0m\u001b[1;33m\u001b[0m\u001b[0m\n\u001b[0m\u001b[0;32m    852\u001b[0m \u001b[1;33m\u001b[0m\u001b[0m\n\u001b[0;32m    853\u001b[0m         \u001b[0mself\u001b[0m\u001b[1;33m.\u001b[0m\u001b[0m_validate_host\u001b[0m\u001b[1;33m(\u001b[0m\u001b[0mself\u001b[0m\u001b[1;33m.\u001b[0m\u001b[0mhost\u001b[0m\u001b[1;33m)\u001b[0m\u001b[1;33m\u001b[0m\u001b[1;33m\u001b[0m\u001b[0m\n",
      "\u001b[1;32m~\\AppData\\Local\\Programs\\Python\\Python310\\lib\\http\\client.py\u001b[0m in \u001b[0;36m_get_hostport\u001b[1;34m(self, host, port)\u001b[0m\n\u001b[0;32m    892\u001b[0m                         \u001b[0mport\u001b[0m \u001b[1;33m=\u001b[0m \u001b[0mself\u001b[0m\u001b[1;33m.\u001b[0m\u001b[0mdefault_port\u001b[0m\u001b[1;33m\u001b[0m\u001b[1;33m\u001b[0m\u001b[0m\n\u001b[0;32m    893\u001b[0m                     \u001b[1;32melse\u001b[0m\u001b[1;33m:\u001b[0m\u001b[1;33m\u001b[0m\u001b[1;33m\u001b[0m\u001b[0m\n\u001b[1;32m--> 894\u001b[1;33m                         \u001b[1;32mraise\u001b[0m \u001b[0mInvalidURL\u001b[0m\u001b[1;33m(\u001b[0m\u001b[1;34m\"nonnumeric port: '%s'\"\u001b[0m \u001b[1;33m%\u001b[0m \u001b[0mhost\u001b[0m\u001b[1;33m[\u001b[0m\u001b[0mi\u001b[0m\u001b[1;33m+\u001b[0m\u001b[1;36m1\u001b[0m\u001b[1;33m:\u001b[0m\u001b[1;33m]\u001b[0m\u001b[1;33m)\u001b[0m\u001b[1;33m\u001b[0m\u001b[1;33m\u001b[0m\u001b[0m\n\u001b[0m\u001b[0;32m    895\u001b[0m                 \u001b[0mhost\u001b[0m \u001b[1;33m=\u001b[0m \u001b[0mhost\u001b[0m\u001b[1;33m[\u001b[0m\u001b[1;33m:\u001b[0m\u001b[0mi\u001b[0m\u001b[1;33m]\u001b[0m\u001b[1;33m\u001b[0m\u001b[1;33m\u001b[0m\u001b[0m\n\u001b[0;32m    896\u001b[0m             \u001b[1;32melse\u001b[0m\u001b[1;33m:\u001b[0m\u001b[1;33m\u001b[0m\u001b[1;33m\u001b[0m\u001b[0m\n",
      "\u001b[1;31mInvalidURL\u001b[0m: nonnumeric port: '//4X3RRHFYBBTVEUZ5MEY8QXEWFBB5D9KL@chrupnazdrowie.pl/api/products'"
     ]
    }
   ],
   "source": []
  }
 ],
 "metadata": {
  "kernelspec": {
   "display_name": "Python 3 (ipykernel)",
   "language": "python",
   "name": "python3"
  },
  "language_info": {
   "codemirror_mode": {
    "name": "ipython",
    "version": 3
   },
   "file_extension": ".py",
   "mimetype": "text/x-python",
   "name": "python",
   "nbconvert_exporter": "python",
   "pygments_lexer": "ipython3",
   "version": "3.10.1"
  }
 },
 "nbformat": 4,
 "nbformat_minor": 5
}
